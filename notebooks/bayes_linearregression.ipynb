{
 "cells": [
  {
   "cell_type": "markdown",
   "metadata": {},
   "source": [
    "Adapted from: https://docs.pymc.io/notebooks/getting_started.html"
   ]
  },
  {
   "cell_type": "code",
   "execution_count": 1,
   "metadata": {},
   "outputs": [],
   "source": [
    "import numpy as np\n",
    "import seaborn as sns\n",
    "import matplotlib.pyplot as plt\n",
    "import pymc3 as pm\n",
    "from numpy.random import RandomState\n",
    "\n",
    "from util.defs import *\n",
    "\n",
    "sns.set_palette(\"colorblind\")\n",
    "sns.set_style(\"darkgrid\")"
   ]
  },
  {
   "cell_type": "code",
   "execution_count": 2,
   "metadata": {},
   "outputs": [],
   "source": [
    "rand_seed=123\n",
    "rand = RandomState(seed=rand_seed)"
   ]
  },
  {
   "cell_type": "code",
   "execution_count": 3,
   "metadata": {},
   "outputs": [],
   "source": [
    "# True model parameters\n",
    "b = 1\n",
    "eps = 1\n",
    "w = np.array([1, 2.5])\n",
    "\n",
    "# Parameters for simulated data\n",
    "mus = np.zeros(2)\n",
    "sigmas = np.array([1, 0.2])\n",
    "N = 100"
   ]
  },
  {
   "cell_type": "markdown",
   "metadata": {},
   "source": [
    "# Functions"
   ]
  },
  {
   "cell_type": "code",
   "execution_count": 4,
   "metadata": {},
   "outputs": [],
   "source": [
    "def sim_train_data(N: int, w: ndarray, b, mus: ndarray, sigmas: ndarray, eps: float, \n",
    "                rand: RandomState) -> Tuple[ndarray, ndarray]:\n",
    "    X = rand.normal(mus, sigmas, (N, len(w)))\n",
    "    # Xw + b + noise\n",
    "    Y = (X @ w)[:, np.newaxis] + b + rand.normal(size=(N, 1)) * eps\n",
    "    return X, Y"
   ]
  },
  {
   "cell_type": "markdown",
   "metadata": {},
   "source": [
    "# Bayesian Linear Regression"
   ]
  },
  {
   "cell_type": "markdown",
   "metadata": {},
   "source": [
    "## Generate data"
   ]
  },
  {
   "cell_type": "code",
   "execution_count": 5,
   "metadata": {},
   "outputs": [],
   "source": [
    "X, Y = sim_train_data(N, w, b, mus, sigmas, eps, rand)"
   ]
  },
  {
   "cell_type": "markdown",
   "metadata": {},
   "source": [
    "## Visualize simulated data"
   ]
  },
  {
   "cell_type": "code",
   "execution_count": 6,
   "metadata": {},
   "outputs": [
    {
     "data": {
      "image/png": "[encoded data removed]",
      "text/plain": [
       "<Figure size 1080x360 with 3 Axes>"
      ]
     },
     "metadata": {},
     "output_type": "display_data"
    }
   ],
   "source": [
    "fig, axes = plt.subplots(1, 3, sharex=True, sharey=True, figsize=(15, 5))\n",
    "sns.scatterplot(x=X[:, 0], y=X[:, 1], ax=axes[0])\n",
    "axes[0].set_xlabel(\"X1\")\n",
    "axes[0].set_ylabel(\"X2\")\n",
    "\n",
    "sns.scatterplot(x=X[:, 0], y=Y.squeeze(), ax=axes[1])\n",
    "axes[1].set_xlabel(\"X1\")\n",
    "axes[1].set_ylabel(\"Y\")\n",
    "\n",
    "sns.scatterplot(x=X[:, 1], y=Y.squeeze(), ax=axes[2])\n",
    "axes[2].set_xlabel(\"X2\")\n",
    "axes[2].set_ylabel(\"Y\")\n",
    "\n",
    "\n",
    "plt.show()"
   ]
  },
  {
   "cell_type": "markdown",
   "metadata": {},
   "source": [
    "## Define model"
   ]
  },
  {
   "cell_type": "code",
   "execution_count": 7,
   "metadata": {},
   "outputs": [],
   "source": [
    "with pm.Model() as linear_model:\n",
    "    # Priors for unknown parameters\n",
    "    bias = pm.Normal(\"bias\", mu=0, sigma=10)\n",
    "    weights = pm.Normal(\"weights\", mu=0, sigma=10, shape=2)\n",
    "    epsilon = pm.HalfNormal(\"epsilon\", sigma=1)\n",
    "    \n",
    "    # Expected value of outcome (i.e. linear function)\n",
    "    mu = (X @ weights)[:, np.newaxis] + bias\n",
    "    \n",
    "    # Likelihood (sampling distribution) of observations\n",
    "    Y_obs = pm.Normal(\"Y_obs\", mu=mu, sigma=epsilon, observed=Y)"
   ]
  },
  {
   "cell_type": "markdown",
   "metadata": {},
   "source": [
    "## Fit model"
   ]
  },
  {
   "cell_type": "code",
   "execution_count": 8,
   "metadata": {},
   "outputs": [
    {
     "name": "stderr",
     "output_type": "stream",
     "text": [
      "logp = -155.36, ||grad|| = 12.881: 100%|██████████| 20/20 [00:00<00:00, 2530.27it/s]  \n"
     ]
    },
    {
     "data": {
      "text/plain": [
       "{'bias': array(0.88424182),\n",
       " 'weights': array([1.10407373, 2.21914399]),\n",
       " 'epsilon_log__': array(-0.04266357),\n",
       " 'epsilon': array(0.95823371)}"
      ]
     },
     "execution_count": 8,
     "metadata": {},
     "output_type": "execute_result"
    }
   ],
   "source": [
    "map_est = pm.find_MAP(model=linear_model)\n",
    "map_est"
   ]
  },
  {
   "cell_type": "code",
   "execution_count": null,
   "metadata": {},
   "outputs": [],
   "source": []
  }
 ],
 "metadata": {
  "kernelspec": {
   "display_name": "Python 3",
   "language": "python",
   "name": "python3"
  },
  "language_info": {
   "codemirror_mode": {
    "name": "ipython",
    "version": 3
   },
   "file_extension": ".py",
   "mimetype": "text/x-python",
   "name": "python",
   "nbconvert_exporter": "python",
   "pygments_lexer": "ipython3",
   "version": "3.7.6"
  }
 },
 "nbformat": 4,
 "nbformat_minor": 4
}
